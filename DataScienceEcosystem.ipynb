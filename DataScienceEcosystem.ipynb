{
 "cells": [
  {
   "cell_type": "markdown",
   "id": "62824796-34c2-47b8-ac21-77e4ab6443ca",
   "metadata": {},
   "source": [
    "# Data Science Tools and Ecosystem"
   ]
  },
  {
   "cell_type": "markdown",
   "id": "2ba0eda0-bcce-45ce-9a9d-c9226e75851f",
   "metadata": {},
   "source": [
    "In this notebook, Data Science Tools and Ecosystem are summarized."
   ]
  },
  {
   "cell_type": "markdown",
   "id": "b485f2a5-d2e6-4f19-8558-65bd05349fe8",
   "metadata": {},
   "source": [
    "Objectives:\n",
    "* Python\n",
    "* R Proggramming \n",
    "* SQl"
   ]
  },
  {
   "cell_type": "markdown",
   "id": "c9bcce3f-f856-4196-bea7-6fb5455eb759",
   "metadata": {},
   "source": [
    "Some of the popular languages that Data Scientists use are:\n",
    "1. Python\n",
    "2. R Proggramming\n",
    "3. SQl"
   ]
  },
  {
   "cell_type": "markdown",
   "id": "eb6a9743-15ba-49f8-9393-f6e9bc71003e",
   "metadata": {},
   "source": [
    "Some of the commonly used libraries used by Data Scientists include:\n",
    "1. SciPy\n",
    "2. NumPy\n",
    "3. Pandas"
   ]
  },
  {
   "cell_type": "markdown",
   "id": "be61cc1b-fab0-4b34-a1b6-ae02e4e91cd9",
   "metadata": {},
   "source": [
    "|Data Science Tools|\n",
    "|-------------------|\n",
    "|RStudio|\n",
    "|Jupyter Labs|\n",
    "|Jupyter Notebook|\n"
   ]
  },
  {
   "cell_type": "markdown",
   "id": "0ca7cf0a-ae88-4cd0-af3e-7f03e7b591fc",
   "metadata": {},
   "source": [
    "### Below are a few examples of evaluating arithmetic expressions in Python"
   ]
  },
  {
   "cell_type": "code",
   "execution_count": 5,
   "id": "4383cb45-2c2c-4e02-91e7-1763fcec3b0b",
   "metadata": {},
   "outputs": [
    {
     "data": {
      "text/plain": [
       "17"
      ]
     },
     "execution_count": 5,
     "metadata": {},
     "output_type": "execute_result"
    }
   ],
   "source": [
    "(3*4)+5"
   ]
  },
  {
   "cell_type": "markdown",
   "id": "188fca15-57cd-4790-86f5-034fd4b37b6a",
   "metadata": {},
   "source": [
    " This a simple arithmetic expression to mutiply then add integers"
   ]
  },
  {
   "cell_type": "code",
   "execution_count": 6,
   "id": "30b9d243-5171-425e-b3f0-e7f37c170348",
   "metadata": {},
   "outputs": [
    {
     "data": {
      "text/plain": [
       "3.3333333333333335"
      ]
     },
     "execution_count": 6,
     "metadata": {},
     "output_type": "execute_result"
    }
   ],
   "source": [
    "(200/60)"
   ]
  },
  {
   "cell_type": "markdown",
   "id": "3d55a07c-a4f7-4144-97be-6df6385c10a2",
   "metadata": {},
   "source": [
    "This will convert 200 minutes to hours by diving by 60"
   ]
  },
  {
   "cell_type": "markdown",
   "id": "39380e06-1550-4f54-8203-4cfbb885d4dc",
   "metadata": {},
   "source": [
    "## Author \n",
    "Dion"
   ]
  },
  {
   "cell_type": "code",
   "execution_count": null,
   "id": "249cb18f-3166-4b64-83ba-9ed3178a177a",
   "metadata": {},
   "outputs": [],
   "source": []
  }
 ],
 "metadata": {
  "kernelspec": {
   "display_name": "Python 3 (ipykernel)",
   "language": "python",
   "name": "python3"
  },
  "language_info": {
   "codemirror_mode": {
    "name": "ipython",
    "version": 3
   },
   "file_extension": ".py",
   "mimetype": "text/x-python",
   "name": "python",
   "nbconvert_exporter": "python",
   "pygments_lexer": "ipython3",
   "version": "3.11.9"
  }
 },
 "nbformat": 4,
 "nbformat_minor": 5
}
